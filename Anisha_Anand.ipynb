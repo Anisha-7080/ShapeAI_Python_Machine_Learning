{
  "nbformat": 4,
  "nbformat_minor": 0,
  "metadata": {
    "colab": {
      "name": "Anisha_Anand.ipynb",
      "provenance": []
    },
    "kernelspec": {
      "name": "python3",
      "display_name": "Python 3"
    },
    "language_info": {
      "name": "python"
    }
  },
  "cells": [
    {
      "cell_type": "code",
      "metadata": {
        "id": "Kz-UhWabTuAv"
      },
      "source": [
        "import numpy as np\n",
        "import pandas as pd\n",
        "import sklearn"
      ],
      "execution_count": 1,
      "outputs": []
    },
    {
      "cell_type": "code",
      "metadata": {
        "id": "uzWDw1DeVY8F"
      },
      "source": [
        "[] from sklearn.datasets import load_boston\n",
        "df = load_boston()"
      ],
      "execution_count": null,
      "outputs": []
    },
    {
      "cell_type": "code",
      "metadata": {
        "id": "nU3QgHiOWwLG"
      },
      "source": [
        "df.keys()\n",
        "     dict_keys(['data', 'target', 'feature_names', 'DESCR', 'filename'])"
      ],
      "execution_count": null,
      "outputs": []
    },
    {
      "cell_type": "code",
      "metadata": {
        "id": "_UI74g2LX0Wb"
      },
      "source": [
        "[] boston = pd.DataFrame(df.data,columns=df.feature_names)\n",
        "boston.head()"
      ],
      "execution_count": null,
      "outputs": []
    },
    {
      "cell_type": "code",
      "metadata": {
        "id": "KYskA2pqd1t8"
      },
      "source": [
        "     CRIM     ZN     INDUS     CHAS     NOX     RM     AGE     DIS     RAD     TAX     PTRATIO\n",
        "\n",
        "  0  0.00632  18.0   2.31      0.0    0.538    6.575   65.2    4.0900  1.0      296.0     15.3       3\n",
        "   \n",
        "  1  0.02731  0.0    7.07      0.0    0.469     6.421  78.9    4.9671  2.0      242.0     17.8       3\n",
        "\n",
        "  2  0.02729  0.0    7.07      0.0    0.469     7.185  61.1    4.9671  2.0      242.0     17.8       3\n",
        "\n",
        "  3  0.03237  0.0    2.18      0.0     0.458    6.998  45.8    6.0622   3.0     222.0     18.7       3\n",
        "\n",
        "  4  0.06906  0.0    2.18      0.0    0 .458    7.147  54.2    6.0622   3.0     222.0     18.7       3 \n"
      ],
      "execution_count": null,
      "outputs": []
    },
    {
      "cell_type": "code",
      "metadata": {
        "id": "oJWN0yV_hjhx"
      },
      "source": [
        "[ ] boston['MEDV'] = df.target\n",
        "    boston.head()"
      ],
      "execution_count": null,
      "outputs": []
    },
    {
      "cell_type": "code",
      "metadata": {
        "id": "o-xjOHAoiX2p"
      },
      "source": [
        "     CRIM     ZN     INDUS     CHAS     NOX     RM     AGE     DIS     RAD     TAX     PTRATIO\n",
        "\n",
        " 0  0.00632  18.0   2.31      0.0        0.538  6.575   65.2   4.0900  1.0      296.0   15.3      3\n",
        "\n",
        " 1  0.02731  0.0   7.07       0.0      0.469    6.421  78.9    4.9671  2.0      242.0   17.8      3\n",
        "\n",
        " 2  0.02729  0.0   7.07       0.0      0.469    7.185   61.1   4.9671  2.0      242.0   17.8      3\n",
        "\n",
        " 3  0.03237  0.0   2.18       0.0      0.458    6.998   45.8   6.0622  3.0      222.0   18.7      3\n",
        "\n",
        " 4  0.06905  0.0   2.18       0.0      0.458    7.147    54.20  6.0622 3.0      222.0    18.7     3\n",
        " \n",
        " "
      ],
      "execution_count": null,
      "outputs": []
    },
    {
      "cell_type": "code",
      "metadata": {
        "id": "4ZDqRvgylfje"
      },
      "source": [
        "boston.insult()"
      ],
      "execution_count": null,
      "outputs": []
    },
    {
      "cell_type": "code",
      "metadata": {
        "id": "oUiZEeXKzb1t"
      },
      "source": [
        "   CRIM     ZN     INDUS     CHAS     NOX     RM     AGE     DIS     RAD     TAX      PTRATIO\n",
        "\n",
        " 0  False   False  False    False     False   False  False    False  False   False   False\n",
        "\n",
        " 1  False   False   False  False     Falseb  False   False    False  False   False   False\n",
        "\n",
        " 1  False   False   False  False     False   False   False    False  False    False   False\n",
        "\n",
        " 3  False  False     False  False    False   False   False    False   False   False   False\n",
        "\n",
        " 4  False  False     False  aFalse   False   False   False    False   False    False   False\n",
        "\n",
        " ...  ...  ...      ...     ...      ....   ...      ....    ...     ...       ...     ...\n",
        "\n",
        " 501 False  False  False   False    False   False     False  False   False     False    False\n",
        "\n",
        " 502 DFalse  False  False   False    False   False    Fa   lse   False False   False    False\n",
        "\n",
        " 503 False   False  False   False    False   False    False   False   False    False    False\n",
        "\n",
        " 504 False   False   False  False     False  False    False   False  False     False    False\n",
        "\n",
        " 505 False  False   False   False    False   False   False   False   False     False   False\n",
        "\n",
        " 505rows*14 columns\n",
        "\n",
        "   "
      ],
      "execution_count": null,
      "outputs": []
    },
    {
      "cell_type": "code",
      "metadata": {
        "id": "xquSxxeq2ogj"
      },
      "source": [
        "boston.isnull().sum()\n",
        "\n",
        "      CRIM       0\n",
        "      ZN         0\n",
        "      INDUS      0\n",
        "      CHAS       0\n",
        "      NOX        0\n",
        "      RM          0\n",
        "      AGE        0\n",
        "      DIS        0\n",
        "      RAD        0\n",
        "      TAX        0\n",
        "      PTRATIO    0\n",
        "      B          0\n",
        "      LSTAT      0\n",
        "      MEDV       0\n",
        "      dtype:int64 "
      ],
      "execution_count": null,
      "outputs": []
    },
    {
      "cell_type": "code",
      "metadata": {
        "id": "tcTJMw9b5vLt"
      },
      "source": [
        "  from sklearn.model_selection imlort train_test_split\n",
        "\n",
        "       X = boston.drop('MEDV', axis=1)\n",
        "       Y = boston['MEDV']\n",
        "\n",
        "       X_train, X_test,Y_train, Y_test = train_test_split(X, Y, test_sizre=0)\n",
        "        \n",
        "\n",
        "        print(X_train.shape)\n",
        "        print(X_test.shape)\n",
        "        print(Y_train.shape)\n",
        "        print(Y_test.shape)\n",
        "\n",
        "          (430, 13)\n",
        "          (76, 13)\n",
        "          (430,)\n",
        "          (76,)"
      ],
      "execution_count": null,
      "outputs": []
    },
    {
      "cell_type": "code",
      "metadata": {
        "id": "8Ja4Za_Q7fxX"
      },
      "source": [
        " from sklearn.linear_ model import LinearRegression\n",
        " from sklearn.metrics import mean_ squared_error"
      ],
      "execution_count": null,
      "outputs": []
    },
    {
      "cell_type": "code",
      "metadata": {
        "id": "DAsPDh4s8vFq"
      },
      "source": [
        "  ##  FITTING MODEL ON THE TRAINING DATASET\n",
        "\n",
        "     lin_model = LinearRegression() \n",
        "\n",
        "     lin_model.fit(X_train, Y_train)\n",
        "\n",
        "     LinearRegression(copy_X=True, fit_intercept=True,n_jobs=none,normalized)"
      ],
      "execution_count": null,
      "outputs": []
    },
    {
      "cell_type": "code",
      "metadata": {
        "id": "ujEcr8kG-KML"
      },
      "source": [
        " Y_train_predict = lin_model.predict(X_train)\n",
        " rmse = (np.sqrt(mean_squared_error(Y_train, Y_train_predict)))\n",
        "\n",
        "  print(\"THE MODEL PERFORMANCE FOR TRAINING SET\")\n",
        "  PRINT('RMSE is{}'.format(rmse))\n",
        "  print(\"\\n\")\n",
        "\n",
        "  # on testing set\n",
        "  Y_test_predict = lin_model.predict(X_test)\n",
        "  rmse = (np.sqrt(mean_squared_error(Y_test,Y_test_predict),))\n",
        "\n",
        "   print(\"THE MODEL PERFORMANCE FOR TESTING SET\")\n",
        "   print('RMSE is {}'.format(rmse))\n",
        "\n",
        "\n",
        "    THE MODEL PERFORMANCE FOR TRAINING SET\n",
        "    RMSE is 4.710901797319796 \n",
        "\n",
        "     THE MODEL PERFORMANCE FOR TESTING SET\n",
        "     RMSE is 4.687543527902973\n",
        "\n",
        "   []  "
      ],
      "execution_count": null,
      "outputs": []
    }
  ]
}